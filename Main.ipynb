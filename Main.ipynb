{
 "cells": [
  {
   "cell_type": "code",
   "execution_count": 1,
   "metadata": {},
   "outputs": [],
   "source": [
    "import numpy as np\n",
    "import pandas as pd\n",
    "import matplotlib.pyplot as plt\n",
    "\n",
    "from sklearn.linear_model import LogisticRegression\n",
    "from sklearn.ensemble import RandomForestClassifier\n",
    "from sklearn.model_selection import train_test_split\n",
    "from sklearn.model_selection import GridSearchCV\n",
    "from sklearn.metrics import confusion_matrix, classification_report, roc_curve, auc\n",
    "\n",
    "%matplotlib inline\n",
    "plt.style.use(\"ggplot\")\n",
    "\n",
    "import warnings\n",
    "warnings.filterwarnings(\"ignore\")"
   ]
  },
  {
   "cell_type": "code",
   "execution_count": 2,
   "metadata": {},
   "outputs": [
    {
     "data": {
      "text/plain": [
       "(227628, 31)"
      ]
     },
     "execution_count": 2,
     "metadata": {},
     "output_type": "execute_result"
    }
   ],
   "source": [
    "data =  pd.read_csv('subscribers (2).csv')\n",
    "\n",
    "\n",
    "data.shape"
   ]
  },
  {
   "cell_type": "code",
   "execution_count": 3,
   "metadata": {},
   "outputs": [
    {
     "name": "stdout",
     "output_type": "stream",
     "text": [
      "<class 'pandas.core.frame.DataFrame'>\n",
      "RangeIndex: 227628 entries, 0 to 227627\n",
      "Data columns (total 31 columns):\n",
      " #   Column                        Non-Null Count   Dtype  \n",
      "---  ------                        --------------   -----  \n",
      " 0   Unnamed: 0                    227628 non-null  int64  \n",
      " 1   subid                         227628 non-null  int64  \n",
      " 2   package_type                  192054 non-null  object \n",
      " 3   num_weekly_services_utilized  117178 non-null  float64\n",
      " 4   preferred_genre               191302 non-null  object \n",
      " 5   intended_use                  224079 non-null  object \n",
      " 6   weekly_consumption_hour       189698 non-null  float64\n",
      " 7   num_ideal_streaming_services  115458 non-null  float64\n",
      " 8   age                           192459 non-null  float64\n",
      " 9   male_TF                       227359 non-null  object \n",
      " 10  country                       227628 non-null  object \n",
      " 11  attribution_technical         227628 non-null  object \n",
      " 12  attribution_survey            224984 non-null  object \n",
      " 13  op_sys                        214253 non-null  object \n",
      " 14  months_per_bill_period        227628 non-null  int64  \n",
      " 15  plan_type                     227628 non-null  object \n",
      " 16  monthly_price                 227628 non-null  float64\n",
      " 17  discount_price                227628 non-null  float64\n",
      " 18  account_creation_date         227628 non-null  object \n",
      " 19  trial_end_date                227628 non-null  object \n",
      " 20  initial_credit_card_declined  227628 non-null  bool   \n",
      " 21  join_fee                      192724 non-null  float64\n",
      " 22  language                      227628 non-null  object \n",
      " 23  payment_type                  92050 non-null   object \n",
      " 24  num_trial_days                227628 non-null  int64  \n",
      " 25  current_sub_TF                227628 non-null  bool   \n",
      " 26  payment_period                227628 non-null  int64  \n",
      " 27  last_payment                  132237 non-null  object \n",
      " 28  next_payment                  130250 non-null  object \n",
      " 29  cancel_date                   36831 non-null   object \n",
      " 30  trial_completed               227628 non-null  bool   \n",
      "dtypes: bool(3), float64(7), int64(5), object(16)\n",
      "memory usage: 49.3+ MB\n"
     ]
    }
   ],
   "source": [
    "data.info()"
   ]
  },
  {
   "cell_type": "code",
   "execution_count": 4,
   "metadata": {},
   "outputs": [
    {
     "data": {
      "text/html": [
       "<div>\n",
       "<style scoped>\n",
       "    .dataframe tbody tr th:only-of-type {\n",
       "        vertical-align: middle;\n",
       "    }\n",
       "\n",
       "    .dataframe tbody tr th {\n",
       "        vertical-align: top;\n",
       "    }\n",
       "\n",
       "    .dataframe thead th {\n",
       "        text-align: right;\n",
       "    }\n",
       "</style>\n",
       "<table border=\"1\" class=\"dataframe\">\n",
       "  <thead>\n",
       "    <tr style=\"text-align: right;\">\n",
       "      <th></th>\n",
       "      <th>Unnamed: 0</th>\n",
       "      <th>subid</th>\n",
       "      <th>package_type</th>\n",
       "      <th>num_weekly_services_utilized</th>\n",
       "      <th>preferred_genre</th>\n",
       "      <th>intended_use</th>\n",
       "      <th>weekly_consumption_hour</th>\n",
       "      <th>num_ideal_streaming_services</th>\n",
       "      <th>age</th>\n",
       "      <th>male_TF</th>\n",
       "      <th>...</th>\n",
       "      <th>join_fee</th>\n",
       "      <th>language</th>\n",
       "      <th>payment_type</th>\n",
       "      <th>num_trial_days</th>\n",
       "      <th>current_sub_TF</th>\n",
       "      <th>payment_period</th>\n",
       "      <th>last_payment</th>\n",
       "      <th>next_payment</th>\n",
       "      <th>cancel_date</th>\n",
       "      <th>trial_completed</th>\n",
       "    </tr>\n",
       "  </thead>\n",
       "  <tbody>\n",
       "    <tr>\n",
       "      <th>0</th>\n",
       "      <td>162502</td>\n",
       "      <td>21724479</td>\n",
       "      <td>economy</td>\n",
       "      <td>NaN</td>\n",
       "      <td>comedy</td>\n",
       "      <td>access to exclusive content</td>\n",
       "      <td>NaN</td>\n",
       "      <td>NaN</td>\n",
       "      <td>NaN</td>\n",
       "      <td>False</td>\n",
       "      <td>...</td>\n",
       "      <td>NaN</td>\n",
       "      <td>ar</td>\n",
       "      <td>Standard Charter</td>\n",
       "      <td>14</td>\n",
       "      <td>True</td>\n",
       "      <td>1</td>\n",
       "      <td>2020-02-07 21:44:16</td>\n",
       "      <td>2020-06-07 21:44:16</td>\n",
       "      <td>NaN</td>\n",
       "      <td>True</td>\n",
       "    </tr>\n",
       "    <tr>\n",
       "      <th>1</th>\n",
       "      <td>380374</td>\n",
       "      <td>23383224</td>\n",
       "      <td>base</td>\n",
       "      <td>NaN</td>\n",
       "      <td>comedy</td>\n",
       "      <td>access to exclusive content</td>\n",
       "      <td>22.951579</td>\n",
       "      <td>NaN</td>\n",
       "      <td>70.0</td>\n",
       "      <td>False</td>\n",
       "      <td>...</td>\n",
       "      <td>0.3303</td>\n",
       "      <td>ar</td>\n",
       "      <td>NaN</td>\n",
       "      <td>14</td>\n",
       "      <td>True</td>\n",
       "      <td>1</td>\n",
       "      <td>2020-03-15 15:44:35</td>\n",
       "      <td>2020-07-15 15:44:35</td>\n",
       "      <td>NaN</td>\n",
       "      <td>True</td>\n",
       "    </tr>\n",
       "    <tr>\n",
       "      <th>2</th>\n",
       "      <td>496617</td>\n",
       "      <td>26844789</td>\n",
       "      <td>enhanced</td>\n",
       "      <td>3.0</td>\n",
       "      <td>regional</td>\n",
       "      <td>replace OTT</td>\n",
       "      <td>36.001186</td>\n",
       "      <td>2.0</td>\n",
       "      <td>25.0</td>\n",
       "      <td>True</td>\n",
       "      <td>...</td>\n",
       "      <td>0.1101</td>\n",
       "      <td>ar</td>\n",
       "      <td>NaN</td>\n",
       "      <td>14</td>\n",
       "      <td>False</td>\n",
       "      <td>0</td>\n",
       "      <td>NaN</td>\n",
       "      <td>NaN</td>\n",
       "      <td>NaN</td>\n",
       "      <td>True</td>\n",
       "    </tr>\n",
       "    <tr>\n",
       "      <th>3</th>\n",
       "      <td>356799</td>\n",
       "      <td>29417030</td>\n",
       "      <td>base</td>\n",
       "      <td>NaN</td>\n",
       "      <td>drama</td>\n",
       "      <td>replace OTT</td>\n",
       "      <td>20.051667</td>\n",
       "      <td>NaN</td>\n",
       "      <td>30.0</td>\n",
       "      <td>False</td>\n",
       "      <td>...</td>\n",
       "      <td>0.0367</td>\n",
       "      <td>ar</td>\n",
       "      <td>NaN</td>\n",
       "      <td>14</td>\n",
       "      <td>False</td>\n",
       "      <td>0</td>\n",
       "      <td>NaN</td>\n",
       "      <td>NaN</td>\n",
       "      <td>NaN</td>\n",
       "      <td>True</td>\n",
       "    </tr>\n",
       "    <tr>\n",
       "      <th>4</th>\n",
       "      <td>681701</td>\n",
       "      <td>26723159</td>\n",
       "      <td>base</td>\n",
       "      <td>4.0</td>\n",
       "      <td>comedy</td>\n",
       "      <td>replace OTT</td>\n",
       "      <td>22.951579</td>\n",
       "      <td>3.0</td>\n",
       "      <td>28.0</td>\n",
       "      <td>False</td>\n",
       "      <td>...</td>\n",
       "      <td>0.0367</td>\n",
       "      <td>ar</td>\n",
       "      <td>NaN</td>\n",
       "      <td>14</td>\n",
       "      <td>True</td>\n",
       "      <td>2</td>\n",
       "      <td>2020-02-19 12:57:07</td>\n",
       "      <td>2020-06-19 12:57:07</td>\n",
       "      <td>NaN</td>\n",
       "      <td>True</td>\n",
       "    </tr>\n",
       "  </tbody>\n",
       "</table>\n",
       "<p>5 rows × 31 columns</p>\n",
       "</div>"
      ],
      "text/plain": [
       "   Unnamed: 0     subid package_type  num_weekly_services_utilized  \\\n",
       "0      162502  21724479      economy                           NaN   \n",
       "1      380374  23383224         base                           NaN   \n",
       "2      496617  26844789     enhanced                           3.0   \n",
       "3      356799  29417030         base                           NaN   \n",
       "4      681701  26723159         base                           4.0   \n",
       "\n",
       "  preferred_genre                 intended_use  weekly_consumption_hour  \\\n",
       "0          comedy  access to exclusive content                      NaN   \n",
       "1          comedy  access to exclusive content                22.951579   \n",
       "2        regional                  replace OTT                36.001186   \n",
       "3           drama                  replace OTT                20.051667   \n",
       "4          comedy                  replace OTT                22.951579   \n",
       "\n",
       "   num_ideal_streaming_services   age male_TF  ... join_fee language  \\\n",
       "0                           NaN   NaN   False  ...      NaN       ar   \n",
       "1                           NaN  70.0   False  ...   0.3303       ar   \n",
       "2                           2.0  25.0    True  ...   0.1101       ar   \n",
       "3                           NaN  30.0   False  ...   0.0367       ar   \n",
       "4                           3.0  28.0   False  ...   0.0367       ar   \n",
       "\n",
       "       payment_type num_trial_days  current_sub_TF payment_period  \\\n",
       "0  Standard Charter             14            True              1   \n",
       "1               NaN             14            True              1   \n",
       "2               NaN             14           False              0   \n",
       "3               NaN             14           False              0   \n",
       "4               NaN             14            True              2   \n",
       "\n",
       "          last_payment         next_payment cancel_date trial_completed  \n",
       "0  2020-02-07 21:44:16  2020-06-07 21:44:16         NaN            True  \n",
       "1  2020-03-15 15:44:35  2020-07-15 15:44:35         NaN            True  \n",
       "2                  NaN                  NaN         NaN            True  \n",
       "3                  NaN                  NaN         NaN            True  \n",
       "4  2020-02-19 12:57:07  2020-06-19 12:57:07         NaN            True  \n",
       "\n",
       "[5 rows x 31 columns]"
      ]
     },
     "execution_count": 4,
     "metadata": {},
     "output_type": "execute_result"
    }
   ],
   "source": [
    "data.head()"
   ]
  },
  {
   "cell_type": "code",
   "execution_count": 5,
   "metadata": {},
   "outputs": [],
   "source": [
    "def churn(rows):\n",
    "    if row.payment_period== 0 and row.current_sub_TF==False:\n",
    "        return 1\n",
    "    elif row.payment_period== 0 and pd.notna(row.cancel_date):\n",
    "        return 1\n",
    "    elif row.payment_period>=1:\n",
    "        return 0\n",
    "    else:\n",
    "        return ''\n",
    "    \n",
    "data[\"label\"] = np.zeros(data.shape[0])\n",
    "data.loc[(data[\"payment_period\"] == 0) & (data[\"current_sub_TF\"] == False), \"label\"] = 1\n",
    "data.loc[(data[\"payment_period\"] == 0) & pd.notna(data['cancel_date']), \"label\"] = 1"
   ]
  },
  {
   "cell_type": "code",
   "execution_count": 6,
   "metadata": {},
   "outputs": [
    {
     "data": {
      "text/plain": [
       "(0.6158776600418226, 0.38412233995817735)"
      ]
     },
     "execution_count": 6,
     "metadata": {},
     "output_type": "execute_result"
    }
   ],
   "source": [
    "np.mean(data[\"label\"] == 0), np.mean(data[\"label\"] == 1)"
   ]
  },
  {
   "cell_type": "code",
   "execution_count": 7,
   "metadata": {},
   "outputs": [],
   "source": [
    "select_data = data[[\"num_weekly_services_utilized\", \"preferred_genre\", \"weekly_consumption_hour\", \"num_ideal_streaming_services\", \"age\", \"male_TF\", \"months_per_bill_period\", \"monthly_price\", \"discount_price\", \"join_fee\", \"num_trial_days\", \"label\"]]"
   ]
  },
  {
   "cell_type": "code",
   "execution_count": 8,
   "metadata": {},
   "outputs": [
    {
     "data": {
      "text/plain": [
       "(227628, 12)"
      ]
     },
     "execution_count": 8,
     "metadata": {},
     "output_type": "execute_result"
    }
   ],
   "source": [
    "select_data.shape"
   ]
  },
  {
   "cell_type": "code",
   "execution_count": 9,
   "metadata": {},
   "outputs": [
    {
     "data": {
      "text/html": [
       "<div>\n",
       "<style scoped>\n",
       "    .dataframe tbody tr th:only-of-type {\n",
       "        vertical-align: middle;\n",
       "    }\n",
       "\n",
       "    .dataframe tbody tr th {\n",
       "        vertical-align: top;\n",
       "    }\n",
       "\n",
       "    .dataframe thead th {\n",
       "        text-align: right;\n",
       "    }\n",
       "</style>\n",
       "<table border=\"1\" class=\"dataframe\">\n",
       "  <thead>\n",
       "    <tr style=\"text-align: right;\">\n",
       "      <th></th>\n",
       "      <th>Unnamed: 0</th>\n",
       "      <th>subid</th>\n",
       "      <th>package_type</th>\n",
       "      <th>num_weekly_services_utilized</th>\n",
       "      <th>preferred_genre</th>\n",
       "      <th>intended_use</th>\n",
       "      <th>weekly_consumption_hour</th>\n",
       "      <th>num_ideal_streaming_services</th>\n",
       "      <th>age</th>\n",
       "      <th>male_TF</th>\n",
       "      <th>...</th>\n",
       "      <th>language</th>\n",
       "      <th>payment_type</th>\n",
       "      <th>num_trial_days</th>\n",
       "      <th>current_sub_TF</th>\n",
       "      <th>payment_period</th>\n",
       "      <th>last_payment</th>\n",
       "      <th>next_payment</th>\n",
       "      <th>cancel_date</th>\n",
       "      <th>trial_completed</th>\n",
       "      <th>label</th>\n",
       "    </tr>\n",
       "  </thead>\n",
       "  <tbody>\n",
       "    <tr>\n",
       "      <th>0</th>\n",
       "      <td>162502</td>\n",
       "      <td>21724479</td>\n",
       "      <td>economy</td>\n",
       "      <td>NaN</td>\n",
       "      <td>comedy</td>\n",
       "      <td>access to exclusive content</td>\n",
       "      <td>NaN</td>\n",
       "      <td>NaN</td>\n",
       "      <td>NaN</td>\n",
       "      <td>False</td>\n",
       "      <td>...</td>\n",
       "      <td>ar</td>\n",
       "      <td>Standard Charter</td>\n",
       "      <td>14</td>\n",
       "      <td>True</td>\n",
       "      <td>1</td>\n",
       "      <td>2020-02-07 21:44:16</td>\n",
       "      <td>2020-06-07 21:44:16</td>\n",
       "      <td>NaN</td>\n",
       "      <td>True</td>\n",
       "      <td>0.0</td>\n",
       "    </tr>\n",
       "    <tr>\n",
       "      <th>1</th>\n",
       "      <td>380374</td>\n",
       "      <td>23383224</td>\n",
       "      <td>base</td>\n",
       "      <td>NaN</td>\n",
       "      <td>comedy</td>\n",
       "      <td>access to exclusive content</td>\n",
       "      <td>22.951579</td>\n",
       "      <td>NaN</td>\n",
       "      <td>70.0</td>\n",
       "      <td>False</td>\n",
       "      <td>...</td>\n",
       "      <td>ar</td>\n",
       "      <td>NaN</td>\n",
       "      <td>14</td>\n",
       "      <td>True</td>\n",
       "      <td>1</td>\n",
       "      <td>2020-03-15 15:44:35</td>\n",
       "      <td>2020-07-15 15:44:35</td>\n",
       "      <td>NaN</td>\n",
       "      <td>True</td>\n",
       "      <td>0.0</td>\n",
       "    </tr>\n",
       "    <tr>\n",
       "      <th>2</th>\n",
       "      <td>496617</td>\n",
       "      <td>26844789</td>\n",
       "      <td>enhanced</td>\n",
       "      <td>3.0</td>\n",
       "      <td>regional</td>\n",
       "      <td>replace OTT</td>\n",
       "      <td>36.001186</td>\n",
       "      <td>2.0</td>\n",
       "      <td>25.0</td>\n",
       "      <td>True</td>\n",
       "      <td>...</td>\n",
       "      <td>ar</td>\n",
       "      <td>NaN</td>\n",
       "      <td>14</td>\n",
       "      <td>False</td>\n",
       "      <td>0</td>\n",
       "      <td>NaN</td>\n",
       "      <td>NaN</td>\n",
       "      <td>NaN</td>\n",
       "      <td>True</td>\n",
       "      <td>1.0</td>\n",
       "    </tr>\n",
       "    <tr>\n",
       "      <th>3</th>\n",
       "      <td>356799</td>\n",
       "      <td>29417030</td>\n",
       "      <td>base</td>\n",
       "      <td>NaN</td>\n",
       "      <td>drama</td>\n",
       "      <td>replace OTT</td>\n",
       "      <td>20.051667</td>\n",
       "      <td>NaN</td>\n",
       "      <td>30.0</td>\n",
       "      <td>False</td>\n",
       "      <td>...</td>\n",
       "      <td>ar</td>\n",
       "      <td>NaN</td>\n",
       "      <td>14</td>\n",
       "      <td>False</td>\n",
       "      <td>0</td>\n",
       "      <td>NaN</td>\n",
       "      <td>NaN</td>\n",
       "      <td>NaN</td>\n",
       "      <td>True</td>\n",
       "      <td>1.0</td>\n",
       "    </tr>\n",
       "    <tr>\n",
       "      <th>4</th>\n",
       "      <td>681701</td>\n",
       "      <td>26723159</td>\n",
       "      <td>base</td>\n",
       "      <td>4.0</td>\n",
       "      <td>comedy</td>\n",
       "      <td>replace OTT</td>\n",
       "      <td>22.951579</td>\n",
       "      <td>3.0</td>\n",
       "      <td>28.0</td>\n",
       "      <td>False</td>\n",
       "      <td>...</td>\n",
       "      <td>ar</td>\n",
       "      <td>NaN</td>\n",
       "      <td>14</td>\n",
       "      <td>True</td>\n",
       "      <td>2</td>\n",
       "      <td>2020-02-19 12:57:07</td>\n",
       "      <td>2020-06-19 12:57:07</td>\n",
       "      <td>NaN</td>\n",
       "      <td>True</td>\n",
       "      <td>0.0</td>\n",
       "    </tr>\n",
       "  </tbody>\n",
       "</table>\n",
       "<p>5 rows × 32 columns</p>\n",
       "</div>"
      ],
      "text/plain": [
       "   Unnamed: 0     subid package_type  num_weekly_services_utilized  \\\n",
       "0      162502  21724479      economy                           NaN   \n",
       "1      380374  23383224         base                           NaN   \n",
       "2      496617  26844789     enhanced                           3.0   \n",
       "3      356799  29417030         base                           NaN   \n",
       "4      681701  26723159         base                           4.0   \n",
       "\n",
       "  preferred_genre                 intended_use  weekly_consumption_hour  \\\n",
       "0          comedy  access to exclusive content                      NaN   \n",
       "1          comedy  access to exclusive content                22.951579   \n",
       "2        regional                  replace OTT                36.001186   \n",
       "3           drama                  replace OTT                20.051667   \n",
       "4          comedy                  replace OTT                22.951579   \n",
       "\n",
       "   num_ideal_streaming_services   age male_TF  ... language      payment_type  \\\n",
       "0                           NaN   NaN   False  ...       ar  Standard Charter   \n",
       "1                           NaN  70.0   False  ...       ar               NaN   \n",
       "2                           2.0  25.0    True  ...       ar               NaN   \n",
       "3                           NaN  30.0   False  ...       ar               NaN   \n",
       "4                           3.0  28.0   False  ...       ar               NaN   \n",
       "\n",
       "  num_trial_days current_sub_TF  payment_period         last_payment  \\\n",
       "0             14           True               1  2020-02-07 21:44:16   \n",
       "1             14           True               1  2020-03-15 15:44:35   \n",
       "2             14          False               0                  NaN   \n",
       "3             14          False               0                  NaN   \n",
       "4             14           True               2  2020-02-19 12:57:07   \n",
       "\n",
       "          next_payment  cancel_date trial_completed label  \n",
       "0  2020-06-07 21:44:16          NaN            True   0.0  \n",
       "1  2020-07-15 15:44:35          NaN            True   0.0  \n",
       "2                  NaN          NaN            True   1.0  \n",
       "3                  NaN          NaN            True   1.0  \n",
       "4  2020-06-19 12:57:07          NaN            True   0.0  \n",
       "\n",
       "[5 rows x 32 columns]"
      ]
     },
     "execution_count": 9,
     "metadata": {},
     "output_type": "execute_result"
    }
   ],
   "source": [
    "data.head()"
   ]
  },
  {
   "cell_type": "code",
   "execution_count": 10,
   "metadata": {},
   "outputs": [],
   "source": [
    "select_data.dropna(inplace=True)"
   ]
  },
  {
   "cell_type": "code",
   "execution_count": 11,
   "metadata": {},
   "outputs": [
    {
     "name": "stdout",
     "output_type": "stream",
     "text": [
      "<class 'pandas.core.frame.DataFrame'>\n",
      "Int64Index: 93153 entries, 2 to 227624\n",
      "Data columns (total 12 columns):\n",
      " #   Column                        Non-Null Count  Dtype  \n",
      "---  ------                        --------------  -----  \n",
      " 0   num_weekly_services_utilized  93153 non-null  float64\n",
      " 1   preferred_genre               93153 non-null  object \n",
      " 2   weekly_consumption_hour       93153 non-null  float64\n",
      " 3   num_ideal_streaming_services  93153 non-null  float64\n",
      " 4   age                           93153 non-null  float64\n",
      " 5   male_TF                       93153 non-null  object \n",
      " 6   months_per_bill_period        93153 non-null  int64  \n",
      " 7   monthly_price                 93153 non-null  float64\n",
      " 8   discount_price                93153 non-null  float64\n",
      " 9   join_fee                      93153 non-null  float64\n",
      " 10  num_trial_days                93153 non-null  int64  \n",
      " 11  label                         93153 non-null  float64\n",
      "dtypes: float64(8), int64(2), object(2)\n",
      "memory usage: 9.2+ MB\n"
     ]
    }
   ],
   "source": [
    "select_data.info()"
   ]
  },
  {
   "cell_type": "code",
   "execution_count": 12,
   "metadata": {},
   "outputs": [],
   "source": [
    "select_data = pd.get_dummies(select_data)"
   ]
  },
  {
   "cell_type": "code",
   "execution_count": 13,
   "metadata": {},
   "outputs": [
    {
     "name": "stdout",
     "output_type": "stream",
     "text": [
      "<class 'pandas.core.frame.DataFrame'>\n",
      "Int64Index: 93153 entries, 2 to 227624\n",
      "Data columns (total 17 columns):\n",
      " #   Column                         Non-Null Count  Dtype  \n",
      "---  ------                         --------------  -----  \n",
      " 0   num_weekly_services_utilized   93153 non-null  float64\n",
      " 1   weekly_consumption_hour        93153 non-null  float64\n",
      " 2   num_ideal_streaming_services   93153 non-null  float64\n",
      " 3   age                            93153 non-null  float64\n",
      " 4   months_per_bill_period         93153 non-null  int64  \n",
      " 5   monthly_price                  93153 non-null  float64\n",
      " 6   discount_price                 93153 non-null  float64\n",
      " 7   join_fee                       93153 non-null  float64\n",
      " 8   num_trial_days                 93153 non-null  int64  \n",
      " 9   label                          93153 non-null  float64\n",
      " 10  preferred_genre_comedy         93153 non-null  uint8  \n",
      " 11  preferred_genre_drama          93153 non-null  uint8  \n",
      " 12  preferred_genre_international  93153 non-null  uint8  \n",
      " 13  preferred_genre_other          93153 non-null  uint8  \n",
      " 14  preferred_genre_regional       93153 non-null  uint8  \n",
      " 15  male_TF_False                  93153 non-null  uint8  \n",
      " 16  male_TF_True                   93153 non-null  uint8  \n",
      "dtypes: float64(8), int64(2), uint8(7)\n",
      "memory usage: 8.4 MB\n"
     ]
    }
   ],
   "source": [
    "select_data.info()"
   ]
  },
  {
   "cell_type": "code",
   "execution_count": 14,
   "metadata": {},
   "outputs": [
    {
     "data": {
      "text/plain": [
       "((65207, 16), (65207,), (27946, 16), (27946,))"
      ]
     },
     "execution_count": 14,
     "metadata": {},
     "output_type": "execute_result"
    }
   ],
   "source": [
    "X_colnames = select_data.columns.tolist()\n",
    "X_colnames.remove(\"label\")\n",
    "X, y = select_data[X_colnames], select_data[\"label\"]\n",
    "\n",
    "\n",
    "X1_train, X1_val, y1_train, y1_val = train_test_split(X.values, y.values, test_size=0.3, random_state=114)\n",
    "X1_train.shape, y1_train.shape, X1_val.shape, y1_val.shape"
   ]
  },
  {
   "cell_type": "code",
   "execution_count": 15,
   "metadata": {},
   "outputs": [
    {
     "data": {
      "text/plain": [
       "(0.6819819957979971, 0.3180180042020029)"
      ]
     },
     "execution_count": 15,
     "metadata": {},
     "output_type": "execute_result"
    }
   ],
   "source": [
    "np.mean(y1_train == 0), np.mean(y1_train == 1)"
   ]
  },
  {
   "cell_type": "code",
   "execution_count": 16,
   "metadata": {},
   "outputs": [
    {
     "name": "stdout",
     "output_type": "stream",
     "text": [
      "Confusion matrix (validation):\n",
      " [[12640  6331]\n",
      " [ 2569  6406]]\n",
      "\n",
      "Classification report (validation):\n",
      "               precision    recall  f1-score   support\n",
      "\n",
      "         0.0       0.83      0.67      0.74     18971\n",
      "         1.0       0.50      0.71      0.59      8975\n",
      "\n",
      "    accuracy                           0.68     27946\n",
      "   macro avg       0.67      0.69      0.66     27946\n",
      "weighted avg       0.73      0.68      0.69     27946\n",
      "\n"
     ]
    }
   ],
   "source": [
    "lr_clf1 = LogisticRegression(class_weight={0: 0.32, 1: 0.68})\n",
    "lr_clf1.fit(X1_train, y1_train)\n",
    "\n",
    "y1_val_pred = lr_clf1.predict(X1_val)\n",
    "print(\"Confusion matrix (validation):\\n {0}\\n\".format(confusion_matrix(y1_val, y1_val_pred)))\n",
    "print(\"Classification report (validation):\\n {0}\".format(classification_report(y1_val, y1_val_pred)))"
   ]
  },
  {
   "cell_type": "code",
   "execution_count": 23,
   "metadata": {},
   "outputs": [
    {
     "ename": "IndexError",
     "evalue": "too many indices for array: array is 1-dimensional, but 2 were indexed",
     "output_type": "error",
     "traceback": [
      "\u001b[1;31m---------------------------------------------------------------------------\u001b[0m",
      "\u001b[1;31mIndexError\u001b[0m                                Traceback (most recent call last)",
      "\u001b[1;32m<ipython-input-23-a4246b4f84fc>\u001b[0m in \u001b[0;36m<module>\u001b[1;34m\u001b[0m\n\u001b[1;32m----> 1\u001b[1;33m \u001b[0my1_val_pred\u001b[0m\u001b[1;33m[\u001b[0m\u001b[1;33m:\u001b[0m\u001b[1;33m,\u001b[0m\u001b[1;36m1\u001b[0m\u001b[1;33m]\u001b[0m\u001b[1;33m\u001b[0m\u001b[1;33m\u001b[0m\u001b[0m\n\u001b[0m",
      "\u001b[1;31mIndexError\u001b[0m: too many indices for array: array is 1-dimensional, but 2 were indexed"
     ]
    }
   ],
   "source": []
  },
  {
   "cell_type": "code",
   "execution_count": 17,
   "metadata": {},
   "outputs": [
    {
     "data": {
      "text/plain": [
       "0.7526130118848753"
      ]
     },
     "execution_count": 17,
     "metadata": {},
     "output_type": "execute_result"
    }
   ],
   "source": [
    "y1_valid_score_lr1 = lr_clf1.predict_proba(X1_val)\n",
    "fpr_lr1, tpr_lr1, thresholds_lr1 = roc_curve(y1_val, y1_valid_score_lr1[:, 1])\n",
    "roc_auc_lr1 = auc(fpr_lr1, tpr_lr1)\n",
    "roc_auc_lr1"
   ]
  },
  {
   "cell_type": "code",
   "execution_count": 18,
   "metadata": {},
   "outputs": [
    {
     "data": {
      "image/png": "[encoded data removed]",
      "text/plain": [
       "<Figure size 800x500 with 1 Axes>"
      ]
     },
     "metadata": {},
     "output_type": "display_data"
    }
   ],
   "source": [
    "plt.figure(figsize=(4, 2.5), dpi=200)\n",
    "plt.plot(fpr_lr1, tpr_lr1, lw=2, alpha=.6)\n",
    "plt.plot([0, 1], [0, 1], lw=2, linestyle=\"--\")\n",
    "plt.xlim([0, 1])\n",
    "plt.ylim([0, 1.05])\n",
    "plt.xlabel(\"FPR\")\n",
    "plt.ylabel(\"TPR\")\n",
    "plt.title(\"ROC curve\")\n",
    "plt.legend([\"Logistic Reg 1 (AUC {:.4f})\".format(roc_auc_lr1)], fontsize=8, loc=2)\n",
    "plt.show()"
   ]
  },
  {
   "cell_type": "code",
   "execution_count": 19,
   "metadata": {},
   "outputs": [
    {
     "data": {
      "text/plain": [
       "Index(['num_weekly_services_utilized', 'weekly_consumption_hour',\n",
       "       'num_ideal_streaming_services', 'age', 'months_per_bill_period',\n",
       "       'monthly_price', 'discount_price', 'join_fee', 'num_trial_days',\n",
       "       'label', 'preferred_genre_comedy', 'preferred_genre_drama',\n",
       "       'preferred_genre_international', 'preferred_genre_other',\n",
       "       'preferred_genre_regional', 'male_TF_False', 'male_TF_True'],\n",
       "      dtype='object')"
      ]
     },
     "execution_count": 19,
     "metadata": {},
     "output_type": "execute_result"
    }
   ],
   "source": [
    "select_data.columns"
   ]
  },
  {
   "cell_type": "code",
   "execution_count": 20,
   "metadata": {},
   "outputs": [
    {
     "data": {
      "text/plain": [
       "array([[-1.04957753e+00, -5.05797615e-02, -1.45775925e-01,\n",
       "        -6.45289322e-07,  8.47734143e-02,  1.00861523e-01,\n",
       "         9.63397429e-02,  7.78064986e-02,  2.96706950e-01,\n",
       "        -1.02658859e+00,  5.43120424e-01,  1.08741509e-01,\n",
       "         2.75753618e-01,  1.20166391e-01, -3.43340232e-01,\n",
       "         3.64533586e-01]])"
      ]
     },
     "execution_count": 20,
     "metadata": {},
     "output_type": "execute_result"
    }
   ],
   "source": [
    "lr_clf1.coef_"
   ]
  },
  {
   "cell_type": "code",
   "execution_count": 21,
   "metadata": {},
   "outputs": [
    {
     "data": {
      "text/plain": [
       "array([0.02120784])"
      ]
     },
     "execution_count": 21,
     "metadata": {},
     "output_type": "execute_result"
    }
   ],
   "source": [
    "lr_clf1.intercept_"
   ]
  },
  {
   "cell_type": "code",
   "execution_count": 30,
   "metadata": {},
   "outputs": [
    {
     "data": {
      "text/plain": [
       "(227628, 31)"
      ]
     },
     "execution_count": 30,
     "metadata": {},
     "output_type": "execute_result"
    }
   ],
   "source": [
    "data =  pd.read_csv('subscribers (2).csv')\n",
    "\n",
    "\n",
    "data.shape"
   ]
  },
  {
   "cell_type": "code",
   "execution_count": 31,
   "metadata": {},
   "outputs": [],
   "source": [
    "def churn(rows):\n",
    "    if row.payment_period== 0 and row.current_sub_TF==False:\n",
    "        return 1\n",
    "    elif row.payment_period== 0 and pd.notna(row.cancel_date):\n",
    "        return 1\n",
    "    elif row.payment_period>=1:\n",
    "        return 0\n",
    "    else:\n",
    "        return ''\n",
    "    \n",
    "data[\"label\"] = np.zeros(data.shape[0])\n",
    "data.loc[(data[\"payment_period\"] == 0) & (data[\"current_sub_TF\"] == False), \"label\"] = 1\n",
    "data.loc[(data[\"payment_period\"] == 0) & pd.notna(data['cancel_date']), \"label\"] = 1"
   ]
  },
  {
   "cell_type": "code",
   "execution_count": 32,
   "metadata": {},
   "outputs": [],
   "source": [
    "select_data = data[[\"num_weekly_services_utilized\", \"preferred_genre\", \"weekly_consumption_hour\", \"num_ideal_streaming_services\", \"age\", \"male_TF\", \"months_per_bill_period\", \"monthly_price\", \"discount_price\", \"join_fee\", \"num_trial_days\", \"label\"]]"
   ]
  },
  {
   "cell_type": "code",
   "execution_count": 33,
   "metadata": {},
   "outputs": [],
   "source": [
    "select_data.dropna(inplace=True)\n",
    "select_data = pd.get_dummies(select_data)"
   ]
  },
  {
   "cell_type": "code",
   "execution_count": 34,
   "metadata": {},
   "outputs": [],
   "source": [
    "X_colnames = select_data.columns.tolist()\n",
    "X_colnames.remove(\"label\")\n",
    "X, y = select_data[X_colnames], select_data[\"label\"]\n"
   ]
  },
  {
   "cell_type": "code",
   "execution_count": 36,
   "metadata": {},
   "outputs": [],
   "source": [
    "lr_clf1 = LogisticRegression(class_weight={0: 0.32, 1: 0.68})\n",
    "lr_clf1.fit(X,y )\n",
    "\n",
    "y_pred = lr_clf1.predict(X)"
   ]
  },
  {
   "cell_type": "code",
   "execution_count": 37,
   "metadata": {},
   "outputs": [],
   "source": [
    "probs = lr_clf1.predict_proba(X)"
   ]
  },
  {
   "cell_type": "code",
   "execution_count": 38,
   "metadata": {},
   "outputs": [],
   "source": [
    "preds = probs[:,1]"
   ]
  },
  {
   "cell_type": "code",
   "execution_count": 41,
   "metadata": {},
   "outputs": [],
   "source": [
    "select_data ['preds'] = preds"
   ]
  },
  {
   "cell_type": "code",
   "execution_count": 42,
   "metadata": {},
   "outputs": [],
   "source": [
    "select_data.to_csv('preds.csv')"
   ]
  },
  {
   "cell_type": "code",
   "execution_count": null,
   "metadata": {},
   "outputs": [],
   "source": []
  }
 ],
 "metadata": {
  "kernelspec": {
   "display_name": "Python 3",
   "language": "python",
   "name": "python3"
  },
  "language_info": {
   "codemirror_mode": {
    "name": "ipython",
    "version": 3
   },
   "file_extension": ".py",
   "mimetype": "text/x-python",
   "name": "python",
   "nbconvert_exporter": "python",
   "pygments_lexer": "ipython3",
   "version": "3.6.12"
  }
 },
 "nbformat": 4,
 "nbformat_minor": 4
}
